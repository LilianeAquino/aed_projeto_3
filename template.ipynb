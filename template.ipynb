{
 "cells": [
  {
   "cell_type": "markdown",
   "metadata": {},
   "source": [
    "# Projeto #3 - Meu primeiro projeto de IA\n",
    "\n",
    "Antes de começar, leia as [Instruções](https://github.com/thvmm/pos-ds-ia/blob/master/projeto_3/README.md) e os [Critérios de Avaliação](https://github.com/thvmm/pos-ds-ia/blob/master/projeto_3/README.md).\n"
   ]
  },
  {
   "cell_type": "markdown",
   "metadata": {},
   "source": [
    "### 1) **(5%)** Qual a base escolhida e qual seu interesse nela (podem ser mais de uma)? Descrição básica do conjunto de dados escolhido pelo aluno (1 parágrafo)."
   ]
  },
  {
   "cell_type": "markdown",
   "metadata": {},
   "source": [
    "*Indique o link da base no Kaggle e explique em um parágrafo curto por que essa base é interessante para você. Quais são as características básicas da base?*\n",
    "\n",
    "Ex: Estou trabalhando com o histório de vendas de um varejo e uma outra base do mesmo varejista das suas campanhas de marketing realizadas em veiculos de comunicação."
   ]
  },
  {
   "cell_type": "markdown",
   "metadata": {},
   "source": [
    "**Base de dados escolhida**\n",
    "\n",
    "Após alguns dias de pesquisa, encontrei a base abaixo a qual achei interessante, pois trata de uma questão de Saúde, tema que considero extremamente relevante para a sociedade, em especial a Diabetes, cuja a prevenção tem como um dos maiores empecilho a condição social das pessoas.\n",
    "\n",
    "- **`Nome da base`**: Diabetes 130-US hospitals for years 1999-2008 Data Set\n",
    "\n",
    "- **`Link drive`**: https://drive.google.com/open?id=10rtGtHs9OmtzqDFsBK5kFC7fOP7IxA1e\n",
    "\n",
    "- **`Artigo`**: https://archive.ics.uci.edu/ml/datasets/Diabetes+130-US+hospitals+for+years+1999-2008\n",
    "\n",
    "\n",
    "A base escolhida **Diabetes 130-US hospitals** traz dados de 10 anos de atendimento (1999-2008) clínico de pacientes em 130 hospitais e redes de distribuição integradas nos EUA. A base inclui 50 atributos e 101.766 instâncias que representam os resultados dos pacientes e dos hospitais. A finalidade é prevê se um paciente portador de diabetes será readmitido em algum hospital após iniciado o tratamento. O estudo está descrito no artigo: **_Impact of HbA1c Measurement on Hospital Readmission Rates: Analysis of 70,000 Clinical Database Patient Records_** que pode ser encontrado [aqui](https://www.hindawi.com/journals/bmri/2014/781670/)."
   ]
  },
  {
   "cell_type": "markdown",
   "metadata": {},
   "source": [
    "### 2) **(5%)** Que tipo de problema podemos solucionar com ela? Liste ao menos 3 hipóteses sobre seus dados, caso sua base seja muito restrita converse com os professores antes de seguir.\n",
    "- Quais são suas hipoteses sobre os dados? O que vc espera descobrir com esse estudo?\n",
    "\n",
    "Ex: Hipoteses válidas seriam:\n",
    "- As pessoas fazem mais compras nos dias utéis ou finais de semana?\n",
    "- Existe diferença entre o padrão de compra de segunda ou terça feira?\n",
    "- O horário de pico influencia no padrão de compra dos clientes?\n",
    "- Quais produtos são comprados mais juntos? Existe diferença se observarmos a idade do cliente?\n",
    "- Qual o efeito de uma campanha de marketing nas vendas?\n"
   ]
  },
  {
   "cell_type": "markdown",
   "metadata": {},
   "source": [
    "- **`Hipótese 1`**: A medição da Hemoglobina glicada está associada a uma redução nas taxas de readmissão?\n",
    "\n",
    "- **`Hipótese 2`**: A raça e idade são fatores importantes na readmissão de um paciente?\n",
    "\n",
    "- **`Hipótese 3`**: Quem tem diabetes como primeiro diagnóstico tem menos chances de ser readmitido? "
   ]
  },
  {
   "cell_type": "markdown",
   "metadata": {},
   "source": [
    "### 3) **(20%)** Preparação de dados\n",
    "\n",
    "Hora de deixar a base perfeita para se trabalhar. Limpe os dados, integre com outras fontes e transforme-o para ficar pronto para se trabalhar! No fim, mostre um antes e depois de seu dataframe."
   ]
  },
  {
   "cell_type": "markdown",
   "metadata": {},
   "source": [
    "### Bibliotecas básicas"
   ]
  },
  {
   "cell_type": "code",
   "execution_count": 1,
   "metadata": {
    "ExecuteTime": {
     "end_time": "2020-06-25T19:03:20.227477Z",
     "start_time": "2020-06-25T19:03:20.214397Z"
    }
   },
   "outputs": [
    {
     "name": "stdout",
     "output_type": "stream",
     "text": [
      "Versão Pandas: 0.24.2\n",
      "Versão Numpy: 1.17.4\n"
     ]
    }
   ],
   "source": [
    "import numpy as np\n",
    "import pandas as pd\n",
    "\n",
    "import warnings\n",
    "warnings.filterwarnings('ignore')\n",
    "\n",
    "import logging\n",
    "logging.basicConfig(format='%(asctime)s : %(levelname)s : %(message)s', level=logging.INFO)\n",
    "\n",
    "%run modules/data.py\n",
    "\n",
    "print(f'Versão Pandas: {pd.__version__}')\n",
    "print(f'Versão Numpy: {np.__version__}')"
   ]
  },
  {
   "cell_type": "markdown",
   "metadata": {},
   "source": [
    "### Bibliotecas de visualização"
   ]
  },
  {
   "cell_type": "code",
   "execution_count": 2,
   "metadata": {
    "ExecuteTime": {
     "end_time": "2020-06-25T19:03:22.098607Z",
     "start_time": "2020-06-25T19:03:21.353245Z"
    }
   },
   "outputs": [
    {
     "name": "stdout",
     "output_type": "stream",
     "text": [
      "Versão Seaborn: 0.10.1\n",
      "Versão Matplotlib: 3.2.1\n"
     ]
    }
   ],
   "source": [
    "import seaborn as sns\n",
    "import matplotlib\n",
    "import matplotlib.pyplot as plt\n",
    "\n",
    "%matplotlib inline\n",
    "matplotlib.style.use(['seaborn-dark-palette'])\n",
    "\n",
    "print(f'Versão Seaborn: {sns.__version__}')\n",
    "print(f'Versão Matplotlib: {matplotlib.__version__}')"
   ]
  },
  {
   "cell_type": "markdown",
   "metadata": {},
   "source": [
    "### Dicionário dos dados"
   ]
  },
  {
   "cell_type": "markdown",
   "metadata": {},
   "source": [
    "<p style='text-align: justify;'> <strong>encounter_id (numérico)</strong>: identificador único de um encontro.</p>\n",
    "\n",
    "<p style='text-align: justify;'> <strong>patient_nbr (numérico)</strong>: identificador único de um paciente.</p>\n",
    "\n",
    "<p style='text-align: justify;'> <strong>race (nominal)</strong>: raça do paciente.</p>\n",
    "\n",
    "<p style='text-align: justify;'> <strong>gender (nominal)</strong>: gênero do paciente.</p>\n",
    "\n",
    "<p style='text-align: justify;'> <strong>age (nominal)</strong>: idade do paciente agrupada em intervalos de 10 anos.</p>\n",
    "\n",
    "<p style='text-align: justify;'> <strong>weight (nominal)</strong>: peso do paciente (agrupado) em libras.</p>\n",
    "\n",
    "<p style='text-align: justify;'> <strong>admission_type_id (numérico)</strong>: tipo de admissão.</p>\n",
    "\n",
    "<p style='text-align: justify;'> <strong>discharge_disposition_id (numérico)</strong>: código de status da alta hospitalar.</p>\n",
    "\n",
    "<p style='text-align: justify;'> <strong>admission_source_id (numérico)</strong>: fonte de admissão do paciente.</p>\n",
    "\n",
    "<p style='text-align: justify;'> <strong>time_in_hospital (numérico)</strong>: tempo do paciente no hospital.</p>\n",
    "\n",
    "<p style='text-align: justify;'> <strong>payer_code (nominal)</strong>: código do pagador.</p>\n",
    "\n",
    "<p style='text-align: justify;'> <strong>medical_specialty (nominal)</strong>: especialidade médica do médico admitidor.</p>\n",
    "\n",
    "<p style='text-align: justify;'> <strong>num_lab_procedures (numérico)</strong>: número de testes de laboratório realizados durante o encontro.</p>\n",
    "\n",
    "<p style='text-align: justify;'> <strong>num_procedures (numérico)</strong>: número de procedimentos (exceto testes de laboratório) realizados durante o encontro.</p>\n",
    "\n",
    "<p style='text-align: justify;'> <strong>num_medications (numérico)</strong>: número de nomes genéricos distintos administrados durante o encontro.</p>\n",
    "\n",
    "<p style='text-align: justify;'> <strong>number_outpatient (numérico)</strong>: número de consultas ambulatoriais do paciente no ano anterior ao encontro.</p>\n",
    "\n",
    "<p style='text-align: justify;'> <strong>number_emergency (numérico)</strong>: número de visitas de emergência do paciente no ano anterior ao encontro.</p>\n",
    "\n",
    "<p style='text-align: justify;'> <strong>number_inpatient (numérico)</strong>: número de visitas de internação do paciente no ano anterior ao encontro.</p>\n",
    "\n",
    "<p style='text-align: justify;'> <strong>diag_1 (nominal)</strong>: diagnóstico primário (codificado como três primeiros dígitos da ICD9).</p>\n",
    "\n",
    "<p style='text-align: justify;'> <strong>diag_2 (nominal)</strong>: diagnóstico secundário (codificado como três primeiros dígitos da ICD9).</p>\n",
    "\n",
    "<p style='text-align: justify;'> <strong>diag_3 (nominal)</strong>: diagnóstico adicional.</p>\n",
    "\n",
    "<p style='text-align: justify;'> <strong>number_diagnoses (numérico)</strong>: número de diagnósticos inseridos no sistema.</p>\n",
    "\n",
    "<p style='text-align: justify;'> <strong>max_glu_serum (nominal)</strong>: Teste sérico de glicose (diagnostica e monitora o diabetes). Indica o intervalo do resultado ou se o teste não foi realizado.</p>\n",
    "\n",
    "<p style='text-align: justify;'> <strong>A1Cresult (nominal)</strong>: Teste de hemoglobina glicada (avalia o controle glicêmico e confirma o diagnóstico de diabetes ou de pré-diabetes). Indica o intervalo do resultado ou se o teste não foi realizado.</p>\n",
    "\n",
    "<p style='text-align: justify;'> <strong>23 features for medications (nominal)</strong>: para os nomes genéricos. O recurso indica se o medicamento foi prescrito ou se houve uma alteração na dosagem.</p>\n",
    "\n",
    "<p style='text-align: justify;'> <strong>readmitted (nominal)</strong>: dias para readmissão hospitalar.</p>\n",
    "\n",
    "<p style='text-align: justify;'> <strong>change (nominal)</strong>: indica se houve uma alteração nos medicamentos para diabéticos.</p>\n",
    "\n",
    "<p style='text-align: justify;'> <strong>diabetesMed (nominal)</strong>: indica se houve algum medicamento diabético prescrito.</p>"
   ]
  },
  {
   "cell_type": "markdown",
   "metadata": {},
   "source": [
    "### Carregamento dos dados"
   ]
  },
  {
   "cell_type": "code",
   "execution_count": 32,
   "metadata": {
    "ExecuteTime": {
     "end_time": "2020-06-25T19:11:04.332270Z",
     "start_time": "2020-06-25T19:11:03.292764Z"
    }
   },
   "outputs": [],
   "source": [
    "data_orig = pd.read_csv('dataset_diabetes/diabetic_data.csv')"
   ]
  },
  {
   "cell_type": "markdown",
   "metadata": {},
   "source": [
    "### Cópia dos dos dados"
   ]
  },
  {
   "cell_type": "code",
   "execution_count": 33,
   "metadata": {
    "ExecuteTime": {
     "end_time": "2020-06-25T19:11:05.302483Z",
     "start_time": "2020-06-25T19:11:05.244297Z"
    }
   },
   "outputs": [],
   "source": [
    "data = data_orig.copy()"
   ]
  },
  {
   "cell_type": "markdown",
   "metadata": {},
   "source": [
    "### Características dos dados"
   ]
  },
  {
   "cell_type": "code",
   "execution_count": 34,
   "metadata": {
    "ExecuteTime": {
     "end_time": "2020-06-25T19:11:08.230289Z",
     "start_time": "2020-06-25T19:11:06.731613Z"
    }
   },
   "outputs": [
    {
     "data": {
      "text/html": [
       "<div>\n",
       "<style scoped>\n",
       "    .dataframe tbody tr th:only-of-type {\n",
       "        vertical-align: middle;\n",
       "    }\n",
       "\n",
       "    .dataframe tbody tr th {\n",
       "        vertical-align: top;\n",
       "    }\n",
       "\n",
       "    .dataframe thead th {\n",
       "        text-align: right;\n",
       "    }\n",
       "</style>\n",
       "<table border=\"1\" class=\"dataframe\">\n",
       "  <thead>\n",
       "    <tr style=\"text-align: right;\">\n",
       "      <th></th>\n",
       "      <th>0</th>\n",
       "      <th>1</th>\n",
       "      <th>2</th>\n",
       "      <th>3</th>\n",
       "      <th>4</th>\n",
       "    </tr>\n",
       "  </thead>\n",
       "  <tbody>\n",
       "    <tr>\n",
       "      <th>encounter_id</th>\n",
       "      <td>2278392</td>\n",
       "      <td>149190</td>\n",
       "      <td>64410</td>\n",
       "      <td>500364</td>\n",
       "      <td>16680</td>\n",
       "    </tr>\n",
       "    <tr>\n",
       "      <th>patient_nbr</th>\n",
       "      <td>8222157</td>\n",
       "      <td>55629189</td>\n",
       "      <td>86047875</td>\n",
       "      <td>82442376</td>\n",
       "      <td>42519267</td>\n",
       "    </tr>\n",
       "    <tr>\n",
       "      <th>race</th>\n",
       "      <td>Caucasian</td>\n",
       "      <td>Caucasian</td>\n",
       "      <td>AfricanAmerican</td>\n",
       "      <td>Caucasian</td>\n",
       "      <td>Caucasian</td>\n",
       "    </tr>\n",
       "    <tr>\n",
       "      <th>gender</th>\n",
       "      <td>Female</td>\n",
       "      <td>Female</td>\n",
       "      <td>Female</td>\n",
       "      <td>Male</td>\n",
       "      <td>Male</td>\n",
       "    </tr>\n",
       "    <tr>\n",
       "      <th>age</th>\n",
       "      <td>[0-10)</td>\n",
       "      <td>[10-20)</td>\n",
       "      <td>[20-30)</td>\n",
       "      <td>[30-40)</td>\n",
       "      <td>[40-50)</td>\n",
       "    </tr>\n",
       "    <tr>\n",
       "      <th>weight</th>\n",
       "      <td>NaN</td>\n",
       "      <td>NaN</td>\n",
       "      <td>NaN</td>\n",
       "      <td>NaN</td>\n",
       "      <td>NaN</td>\n",
       "    </tr>\n",
       "    <tr>\n",
       "      <th>admission_type_id</th>\n",
       "      <td>6</td>\n",
       "      <td>1</td>\n",
       "      <td>1</td>\n",
       "      <td>1</td>\n",
       "      <td>1</td>\n",
       "    </tr>\n",
       "    <tr>\n",
       "      <th>discharge_disposition_id</th>\n",
       "      <td>25</td>\n",
       "      <td>1</td>\n",
       "      <td>1</td>\n",
       "      <td>1</td>\n",
       "      <td>1</td>\n",
       "    </tr>\n",
       "    <tr>\n",
       "      <th>admission_source_id</th>\n",
       "      <td>1</td>\n",
       "      <td>7</td>\n",
       "      <td>7</td>\n",
       "      <td>7</td>\n",
       "      <td>7</td>\n",
       "    </tr>\n",
       "    <tr>\n",
       "      <th>time_in_hospital</th>\n",
       "      <td>1</td>\n",
       "      <td>3</td>\n",
       "      <td>2</td>\n",
       "      <td>2</td>\n",
       "      <td>1</td>\n",
       "    </tr>\n",
       "    <tr>\n",
       "      <th>payer_code</th>\n",
       "      <td>NaN</td>\n",
       "      <td>NaN</td>\n",
       "      <td>NaN</td>\n",
       "      <td>NaN</td>\n",
       "      <td>NaN</td>\n",
       "    </tr>\n",
       "    <tr>\n",
       "      <th>medical_specialty</th>\n",
       "      <td>Pediatrics-Endocrinology</td>\n",
       "      <td>NaN</td>\n",
       "      <td>NaN</td>\n",
       "      <td>NaN</td>\n",
       "      <td>NaN</td>\n",
       "    </tr>\n",
       "    <tr>\n",
       "      <th>num_lab_procedures</th>\n",
       "      <td>41</td>\n",
       "      <td>59</td>\n",
       "      <td>11</td>\n",
       "      <td>44</td>\n",
       "      <td>51</td>\n",
       "    </tr>\n",
       "    <tr>\n",
       "      <th>num_procedures</th>\n",
       "      <td>0</td>\n",
       "      <td>0</td>\n",
       "      <td>5</td>\n",
       "      <td>1</td>\n",
       "      <td>0</td>\n",
       "    </tr>\n",
       "    <tr>\n",
       "      <th>num_medications</th>\n",
       "      <td>1</td>\n",
       "      <td>18</td>\n",
       "      <td>13</td>\n",
       "      <td>16</td>\n",
       "      <td>8</td>\n",
       "    </tr>\n",
       "    <tr>\n",
       "      <th>number_outpatient</th>\n",
       "      <td>0</td>\n",
       "      <td>0</td>\n",
       "      <td>2</td>\n",
       "      <td>0</td>\n",
       "      <td>0</td>\n",
       "    </tr>\n",
       "    <tr>\n",
       "      <th>number_emergency</th>\n",
       "      <td>0</td>\n",
       "      <td>0</td>\n",
       "      <td>0</td>\n",
       "      <td>0</td>\n",
       "      <td>0</td>\n",
       "    </tr>\n",
       "    <tr>\n",
       "      <th>number_inpatient</th>\n",
       "      <td>0</td>\n",
       "      <td>0</td>\n",
       "      <td>1</td>\n",
       "      <td>0</td>\n",
       "      <td>0</td>\n",
       "    </tr>\n",
       "    <tr>\n",
       "      <th>diag_1</th>\n",
       "      <td>250.83</td>\n",
       "      <td>276</td>\n",
       "      <td>648</td>\n",
       "      <td>8</td>\n",
       "      <td>197</td>\n",
       "    </tr>\n",
       "    <tr>\n",
       "      <th>diag_2</th>\n",
       "      <td>NaN</td>\n",
       "      <td>250.01</td>\n",
       "      <td>250</td>\n",
       "      <td>250.43</td>\n",
       "      <td>157</td>\n",
       "    </tr>\n",
       "    <tr>\n",
       "      <th>diag_3</th>\n",
       "      <td>NaN</td>\n",
       "      <td>255</td>\n",
       "      <td>V27</td>\n",
       "      <td>403</td>\n",
       "      <td>250</td>\n",
       "    </tr>\n",
       "    <tr>\n",
       "      <th>number_diagnoses</th>\n",
       "      <td>1</td>\n",
       "      <td>9</td>\n",
       "      <td>6</td>\n",
       "      <td>7</td>\n",
       "      <td>5</td>\n",
       "    </tr>\n",
       "    <tr>\n",
       "      <th>max_glu_serum</th>\n",
       "      <td>None</td>\n",
       "      <td>None</td>\n",
       "      <td>None</td>\n",
       "      <td>None</td>\n",
       "      <td>None</td>\n",
       "    </tr>\n",
       "    <tr>\n",
       "      <th>A1Cresult</th>\n",
       "      <td>None</td>\n",
       "      <td>None</td>\n",
       "      <td>None</td>\n",
       "      <td>None</td>\n",
       "      <td>None</td>\n",
       "    </tr>\n",
       "    <tr>\n",
       "      <th>metformin</th>\n",
       "      <td>No</td>\n",
       "      <td>No</td>\n",
       "      <td>No</td>\n",
       "      <td>No</td>\n",
       "      <td>No</td>\n",
       "    </tr>\n",
       "    <tr>\n",
       "      <th>repaglinide</th>\n",
       "      <td>No</td>\n",
       "      <td>No</td>\n",
       "      <td>No</td>\n",
       "      <td>No</td>\n",
       "      <td>No</td>\n",
       "    </tr>\n",
       "    <tr>\n",
       "      <th>nateglinide</th>\n",
       "      <td>No</td>\n",
       "      <td>No</td>\n",
       "      <td>No</td>\n",
       "      <td>No</td>\n",
       "      <td>No</td>\n",
       "    </tr>\n",
       "    <tr>\n",
       "      <th>chlorpropamide</th>\n",
       "      <td>No</td>\n",
       "      <td>No</td>\n",
       "      <td>No</td>\n",
       "      <td>No</td>\n",
       "      <td>No</td>\n",
       "    </tr>\n",
       "    <tr>\n",
       "      <th>glimepiride</th>\n",
       "      <td>No</td>\n",
       "      <td>No</td>\n",
       "      <td>No</td>\n",
       "      <td>No</td>\n",
       "      <td>No</td>\n",
       "    </tr>\n",
       "    <tr>\n",
       "      <th>acetohexamide</th>\n",
       "      <td>No</td>\n",
       "      <td>No</td>\n",
       "      <td>No</td>\n",
       "      <td>No</td>\n",
       "      <td>No</td>\n",
       "    </tr>\n",
       "    <tr>\n",
       "      <th>glipizide</th>\n",
       "      <td>No</td>\n",
       "      <td>No</td>\n",
       "      <td>Steady</td>\n",
       "      <td>No</td>\n",
       "      <td>Steady</td>\n",
       "    </tr>\n",
       "    <tr>\n",
       "      <th>glyburide</th>\n",
       "      <td>No</td>\n",
       "      <td>No</td>\n",
       "      <td>No</td>\n",
       "      <td>No</td>\n",
       "      <td>No</td>\n",
       "    </tr>\n",
       "    <tr>\n",
       "      <th>tolbutamide</th>\n",
       "      <td>No</td>\n",
       "      <td>No</td>\n",
       "      <td>No</td>\n",
       "      <td>No</td>\n",
       "      <td>No</td>\n",
       "    </tr>\n",
       "    <tr>\n",
       "      <th>pioglitazone</th>\n",
       "      <td>No</td>\n",
       "      <td>No</td>\n",
       "      <td>No</td>\n",
       "      <td>No</td>\n",
       "      <td>No</td>\n",
       "    </tr>\n",
       "    <tr>\n",
       "      <th>rosiglitazone</th>\n",
       "      <td>No</td>\n",
       "      <td>No</td>\n",
       "      <td>No</td>\n",
       "      <td>No</td>\n",
       "      <td>No</td>\n",
       "    </tr>\n",
       "    <tr>\n",
       "      <th>acarbose</th>\n",
       "      <td>No</td>\n",
       "      <td>No</td>\n",
       "      <td>No</td>\n",
       "      <td>No</td>\n",
       "      <td>No</td>\n",
       "    </tr>\n",
       "    <tr>\n",
       "      <th>miglitol</th>\n",
       "      <td>No</td>\n",
       "      <td>No</td>\n",
       "      <td>No</td>\n",
       "      <td>No</td>\n",
       "      <td>No</td>\n",
       "    </tr>\n",
       "    <tr>\n",
       "      <th>troglitazone</th>\n",
       "      <td>No</td>\n",
       "      <td>No</td>\n",
       "      <td>No</td>\n",
       "      <td>No</td>\n",
       "      <td>No</td>\n",
       "    </tr>\n",
       "    <tr>\n",
       "      <th>tolazamide</th>\n",
       "      <td>No</td>\n",
       "      <td>No</td>\n",
       "      <td>No</td>\n",
       "      <td>No</td>\n",
       "      <td>No</td>\n",
       "    </tr>\n",
       "    <tr>\n",
       "      <th>examide</th>\n",
       "      <td>No</td>\n",
       "      <td>No</td>\n",
       "      <td>No</td>\n",
       "      <td>No</td>\n",
       "      <td>No</td>\n",
       "    </tr>\n",
       "    <tr>\n",
       "      <th>citoglipton</th>\n",
       "      <td>No</td>\n",
       "      <td>No</td>\n",
       "      <td>No</td>\n",
       "      <td>No</td>\n",
       "      <td>No</td>\n",
       "    </tr>\n",
       "    <tr>\n",
       "      <th>insulin</th>\n",
       "      <td>No</td>\n",
       "      <td>Up</td>\n",
       "      <td>No</td>\n",
       "      <td>Up</td>\n",
       "      <td>Steady</td>\n",
       "    </tr>\n",
       "    <tr>\n",
       "      <th>glyburide-metformin</th>\n",
       "      <td>No</td>\n",
       "      <td>No</td>\n",
       "      <td>No</td>\n",
       "      <td>No</td>\n",
       "      <td>No</td>\n",
       "    </tr>\n",
       "    <tr>\n",
       "      <th>glipizide-metformin</th>\n",
       "      <td>No</td>\n",
       "      <td>No</td>\n",
       "      <td>No</td>\n",
       "      <td>No</td>\n",
       "      <td>No</td>\n",
       "    </tr>\n",
       "    <tr>\n",
       "      <th>glimepiride-pioglitazone</th>\n",
       "      <td>No</td>\n",
       "      <td>No</td>\n",
       "      <td>No</td>\n",
       "      <td>No</td>\n",
       "      <td>No</td>\n",
       "    </tr>\n",
       "    <tr>\n",
       "      <th>metformin-rosiglitazone</th>\n",
       "      <td>No</td>\n",
       "      <td>No</td>\n",
       "      <td>No</td>\n",
       "      <td>No</td>\n",
       "      <td>No</td>\n",
       "    </tr>\n",
       "    <tr>\n",
       "      <th>metformin-pioglitazone</th>\n",
       "      <td>No</td>\n",
       "      <td>No</td>\n",
       "      <td>No</td>\n",
       "      <td>No</td>\n",
       "      <td>No</td>\n",
       "    </tr>\n",
       "    <tr>\n",
       "      <th>change</th>\n",
       "      <td>No</td>\n",
       "      <td>Ch</td>\n",
       "      <td>No</td>\n",
       "      <td>Ch</td>\n",
       "      <td>Ch</td>\n",
       "    </tr>\n",
       "    <tr>\n",
       "      <th>diabetesMed</th>\n",
       "      <td>No</td>\n",
       "      <td>Yes</td>\n",
       "      <td>Yes</td>\n",
       "      <td>Yes</td>\n",
       "      <td>Yes</td>\n",
       "    </tr>\n",
       "    <tr>\n",
       "      <th>readmitted</th>\n",
       "      <td>NO</td>\n",
       "      <td>&gt;30</td>\n",
       "      <td>NO</td>\n",
       "      <td>NO</td>\n",
       "      <td>NO</td>\n",
       "    </tr>\n",
       "  </tbody>\n",
       "</table>\n",
       "</div>"
      ],
      "text/plain": [
       "                                                 0          1  \\\n",
       "encounter_id                               2278392     149190   \n",
       "patient_nbr                                8222157   55629189   \n",
       "race                                     Caucasian  Caucasian   \n",
       "gender                                      Female     Female   \n",
       "age                                         [0-10)    [10-20)   \n",
       "weight                                         NaN        NaN   \n",
       "admission_type_id                                6          1   \n",
       "discharge_disposition_id                        25          1   \n",
       "admission_source_id                              1          7   \n",
       "time_in_hospital                                 1          3   \n",
       "payer_code                                     NaN        NaN   \n",
       "medical_specialty         Pediatrics-Endocrinology        NaN   \n",
       "num_lab_procedures                              41         59   \n",
       "num_procedures                                   0          0   \n",
       "num_medications                                  1         18   \n",
       "number_outpatient                                0          0   \n",
       "number_emergency                                 0          0   \n",
       "number_inpatient                                 0          0   \n",
       "diag_1                                      250.83        276   \n",
       "diag_2                                         NaN     250.01   \n",
       "diag_3                                         NaN        255   \n",
       "number_diagnoses                                 1          9   \n",
       "max_glu_serum                                 None       None   \n",
       "A1Cresult                                     None       None   \n",
       "metformin                                       No         No   \n",
       "repaglinide                                     No         No   \n",
       "nateglinide                                     No         No   \n",
       "chlorpropamide                                  No         No   \n",
       "glimepiride                                     No         No   \n",
       "acetohexamide                                   No         No   \n",
       "glipizide                                       No         No   \n",
       "glyburide                                       No         No   \n",
       "tolbutamide                                     No         No   \n",
       "pioglitazone                                    No         No   \n",
       "rosiglitazone                                   No         No   \n",
       "acarbose                                        No         No   \n",
       "miglitol                                        No         No   \n",
       "troglitazone                                    No         No   \n",
       "tolazamide                                      No         No   \n",
       "examide                                         No         No   \n",
       "citoglipton                                     No         No   \n",
       "insulin                                         No         Up   \n",
       "glyburide-metformin                             No         No   \n",
       "glipizide-metformin                             No         No   \n",
       "glimepiride-pioglitazone                        No         No   \n",
       "metformin-rosiglitazone                         No         No   \n",
       "metformin-pioglitazone                          No         No   \n",
       "change                                          No         Ch   \n",
       "diabetesMed                                     No        Yes   \n",
       "readmitted                                      NO        >30   \n",
       "\n",
       "                                        2          3          4  \n",
       "encounter_id                        64410     500364      16680  \n",
       "patient_nbr                      86047875   82442376   42519267  \n",
       "race                      AfricanAmerican  Caucasian  Caucasian  \n",
       "gender                             Female       Male       Male  \n",
       "age                               [20-30)    [30-40)    [40-50)  \n",
       "weight                                NaN        NaN        NaN  \n",
       "admission_type_id                       1          1          1  \n",
       "discharge_disposition_id                1          1          1  \n",
       "admission_source_id                     7          7          7  \n",
       "time_in_hospital                        2          2          1  \n",
       "payer_code                            NaN        NaN        NaN  \n",
       "medical_specialty                     NaN        NaN        NaN  \n",
       "num_lab_procedures                     11         44         51  \n",
       "num_procedures                          5          1          0  \n",
       "num_medications                        13         16          8  \n",
       "number_outpatient                       2          0          0  \n",
       "number_emergency                        0          0          0  \n",
       "number_inpatient                        1          0          0  \n",
       "diag_1                                648          8        197  \n",
       "diag_2                                250     250.43        157  \n",
       "diag_3                                V27        403        250  \n",
       "number_diagnoses                        6          7          5  \n",
       "max_glu_serum                        None       None       None  \n",
       "A1Cresult                            None       None       None  \n",
       "metformin                              No         No         No  \n",
       "repaglinide                            No         No         No  \n",
       "nateglinide                            No         No         No  \n",
       "chlorpropamide                         No         No         No  \n",
       "glimepiride                            No         No         No  \n",
       "acetohexamide                          No         No         No  \n",
       "glipizide                          Steady         No     Steady  \n",
       "glyburide                              No         No         No  \n",
       "tolbutamide                            No         No         No  \n",
       "pioglitazone                           No         No         No  \n",
       "rosiglitazone                          No         No         No  \n",
       "acarbose                               No         No         No  \n",
       "miglitol                               No         No         No  \n",
       "troglitazone                           No         No         No  \n",
       "tolazamide                             No         No         No  \n",
       "examide                                No         No         No  \n",
       "citoglipton                            No         No         No  \n",
       "insulin                                No         Up     Steady  \n",
       "glyburide-metformin                    No         No         No  \n",
       "glipizide-metformin                    No         No         No  \n",
       "glimepiride-pioglitazone               No         No         No  \n",
       "metformin-rosiglitazone                No         No         No  \n",
       "metformin-pioglitazone                 No         No         No  \n",
       "change                                 No         Ch         Ch  \n",
       "diabetesMed                           Yes        Yes        Yes  \n",
       "readmitted                             NO         NO         NO  "
      ]
     },
     "execution_count": 34,
     "metadata": {},
     "output_type": "execute_result"
    }
   ],
   "source": [
    "data.replace('?', np.nan, inplace=True)\n",
    "data.replace('Unknown/Invalid', np.nan, inplace=True)\n",
    "data.head(5).T"
   ]
  },
  {
   "cell_type": "code",
   "execution_count": 35,
   "metadata": {
    "ExecuteTime": {
     "end_time": "2020-06-25T19:11:09.414341Z",
     "start_time": "2020-06-25T19:11:09.409324Z"
    }
   },
   "outputs": [
    {
     "name": "stdout",
     "output_type": "stream",
     "text": [
      "Linhas: 101766 | Colunas: 50\n"
     ]
    }
   ],
   "source": [
    "print(f'Linhas: {data.shape[0]} | Colunas: {data.shape[1]}')"
   ]
  },
  {
   "cell_type": "code",
   "execution_count": 36,
   "metadata": {
    "ExecuteTime": {
     "end_time": "2020-06-25T19:11:10.579637Z",
     "start_time": "2020-06-25T19:11:10.574209Z"
    }
   },
   "outputs": [
    {
     "name": "stdout",
     "output_type": "stream",
     "text": [
      "Colunas presentes: ['encounter_id' 'patient_nbr' 'race' 'gender' 'age' 'weight'\n",
      " 'admission_type_id' 'discharge_disposition_id' 'admission_source_id'\n",
      " 'time_in_hospital' 'payer_code' 'medical_specialty' 'num_lab_procedures'\n",
      " 'num_procedures' 'num_medications' 'number_outpatient' 'number_emergency'\n",
      " 'number_inpatient' 'diag_1' 'diag_2' 'diag_3' 'number_diagnoses'\n",
      " 'max_glu_serum' 'A1Cresult' 'metformin' 'repaglinide' 'nateglinide'\n",
      " 'chlorpropamide' 'glimepiride' 'acetohexamide' 'glipizide' 'glyburide'\n",
      " 'tolbutamide' 'pioglitazone' 'rosiglitazone' 'acarbose' 'miglitol'\n",
      " 'troglitazone' 'tolazamide' 'examide' 'citoglipton' 'insulin'\n",
      " 'glyburide-metformin' 'glipizide-metformin' 'glimepiride-pioglitazone'\n",
      " 'metformin-rosiglitazone' 'metformin-pioglitazone' 'change' 'diabetesMed'\n",
      " 'readmitted']\n"
     ]
    }
   ],
   "source": [
    "print(f'Colunas presentes: {data.columns.values}')"
   ]
  },
  {
   "cell_type": "code",
   "execution_count": 37,
   "metadata": {
    "ExecuteTime": {
     "end_time": "2020-06-25T19:11:11.754078Z",
     "start_time": "2020-06-25T19:11:11.749071Z"
    }
   },
   "outputs": [
    {
     "name": "stdout",
     "output_type": "stream",
     "text": [
      "Tipos dos dados:\n",
      "[dtype('int64') dtype('O')]\n"
     ]
    }
   ],
   "source": [
    "print(f'Tipos dos dados:\\n{data.dtypes.unique()}')"
   ]
  },
  {
   "cell_type": "markdown",
   "metadata": {},
   "source": [
    "### Estatística dos dados"
   ]
  },
  {
   "cell_type": "code",
   "execution_count": 38,
   "metadata": {
    "ExecuteTime": {
     "end_time": "2020-06-25T19:11:13.058224Z",
     "start_time": "2020-06-25T19:11:12.902522Z"
    }
   },
   "outputs": [
    {
     "data": {
      "text/html": [
       "<div>\n",
       "<style scoped>\n",
       "    .dataframe tbody tr th:only-of-type {\n",
       "        vertical-align: middle;\n",
       "    }\n",
       "\n",
       "    .dataframe tbody tr th {\n",
       "        vertical-align: top;\n",
       "    }\n",
       "\n",
       "    .dataframe thead th {\n",
       "        text-align: right;\n",
       "    }\n",
       "</style>\n",
       "<table border=\"1\" class=\"dataframe\">\n",
       "  <thead>\n",
       "    <tr style=\"text-align: right;\">\n",
       "      <th></th>\n",
       "      <th>time_in_hospital</th>\n",
       "      <th>num_lab_procedures</th>\n",
       "      <th>num_procedures</th>\n",
       "      <th>num_medications</th>\n",
       "      <th>number_outpatient</th>\n",
       "      <th>number_emergency</th>\n",
       "      <th>number_inpatient</th>\n",
       "      <th>number_diagnoses</th>\n",
       "    </tr>\n",
       "  </thead>\n",
       "  <tbody>\n",
       "    <tr>\n",
       "      <th>count</th>\n",
       "      <td>101766.000000</td>\n",
       "      <td>101766.000000</td>\n",
       "      <td>101766.000000</td>\n",
       "      <td>101766.000000</td>\n",
       "      <td>101766.000000</td>\n",
       "      <td>101766.000000</td>\n",
       "      <td>101766.000000</td>\n",
       "      <td>101766.000000</td>\n",
       "    </tr>\n",
       "    <tr>\n",
       "      <th>mean</th>\n",
       "      <td>4.395987</td>\n",
       "      <td>43.095641</td>\n",
       "      <td>1.339730</td>\n",
       "      <td>16.021844</td>\n",
       "      <td>0.369357</td>\n",
       "      <td>0.197836</td>\n",
       "      <td>0.635566</td>\n",
       "      <td>7.422607</td>\n",
       "    </tr>\n",
       "    <tr>\n",
       "      <th>std</th>\n",
       "      <td>2.985108</td>\n",
       "      <td>19.674362</td>\n",
       "      <td>1.705807</td>\n",
       "      <td>8.127566</td>\n",
       "      <td>1.267265</td>\n",
       "      <td>0.930472</td>\n",
       "      <td>1.262863</td>\n",
       "      <td>1.933600</td>\n",
       "    </tr>\n",
       "    <tr>\n",
       "      <th>min</th>\n",
       "      <td>1.000000</td>\n",
       "      <td>1.000000</td>\n",
       "      <td>0.000000</td>\n",
       "      <td>1.000000</td>\n",
       "      <td>0.000000</td>\n",
       "      <td>0.000000</td>\n",
       "      <td>0.000000</td>\n",
       "      <td>1.000000</td>\n",
       "    </tr>\n",
       "    <tr>\n",
       "      <th>25%</th>\n",
       "      <td>2.000000</td>\n",
       "      <td>31.000000</td>\n",
       "      <td>0.000000</td>\n",
       "      <td>10.000000</td>\n",
       "      <td>0.000000</td>\n",
       "      <td>0.000000</td>\n",
       "      <td>0.000000</td>\n",
       "      <td>6.000000</td>\n",
       "    </tr>\n",
       "    <tr>\n",
       "      <th>50%</th>\n",
       "      <td>4.000000</td>\n",
       "      <td>44.000000</td>\n",
       "      <td>1.000000</td>\n",
       "      <td>15.000000</td>\n",
       "      <td>0.000000</td>\n",
       "      <td>0.000000</td>\n",
       "      <td>0.000000</td>\n",
       "      <td>8.000000</td>\n",
       "    </tr>\n",
       "    <tr>\n",
       "      <th>75%</th>\n",
       "      <td>6.000000</td>\n",
       "      <td>57.000000</td>\n",
       "      <td>2.000000</td>\n",
       "      <td>20.000000</td>\n",
       "      <td>0.000000</td>\n",
       "      <td>0.000000</td>\n",
       "      <td>1.000000</td>\n",
       "      <td>9.000000</td>\n",
       "    </tr>\n",
       "    <tr>\n",
       "      <th>max</th>\n",
       "      <td>14.000000</td>\n",
       "      <td>132.000000</td>\n",
       "      <td>6.000000</td>\n",
       "      <td>81.000000</td>\n",
       "      <td>42.000000</td>\n",
       "      <td>76.000000</td>\n",
       "      <td>21.000000</td>\n",
       "      <td>16.000000</td>\n",
       "    </tr>\n",
       "  </tbody>\n",
       "</table>\n",
       "</div>"
      ],
      "text/plain": [
       "       time_in_hospital  num_lab_procedures  num_procedures  num_medications  \\\n",
       "count     101766.000000       101766.000000   101766.000000    101766.000000   \n",
       "mean           4.395987           43.095641        1.339730        16.021844   \n",
       "std            2.985108           19.674362        1.705807         8.127566   \n",
       "min            1.000000            1.000000        0.000000         1.000000   \n",
       "25%            2.000000           31.000000        0.000000        10.000000   \n",
       "50%            4.000000           44.000000        1.000000        15.000000   \n",
       "75%            6.000000           57.000000        2.000000        20.000000   \n",
       "max           14.000000          132.000000        6.000000        81.000000   \n",
       "\n",
       "       number_outpatient  number_emergency  number_inpatient  number_diagnoses  \n",
       "count      101766.000000     101766.000000     101766.000000     101766.000000  \n",
       "mean            0.369357          0.197836          0.635566          7.422607  \n",
       "std             1.267265          0.930472          1.262863          1.933600  \n",
       "min             0.000000          0.000000          0.000000          1.000000  \n",
       "25%             0.000000          0.000000          0.000000          6.000000  \n",
       "50%             0.000000          0.000000          0.000000          8.000000  \n",
       "75%             0.000000          0.000000          1.000000          9.000000  \n",
       "max            42.000000         76.000000         21.000000         16.000000  "
      ]
     },
     "execution_count": 38,
     "metadata": {},
     "output_type": "execute_result"
    }
   ],
   "source": [
    "data.drop(['encounter_id', \n",
    "           'patient_nbr', \n",
    "           'admission_type_id', \n",
    "           'discharge_disposition_id', \n",
    "           'admission_source_id'], axis=1).describe()"
   ]
  },
  {
   "cell_type": "code",
   "execution_count": 39,
   "metadata": {
    "ExecuteTime": {
     "end_time": "2020-06-25T19:11:13.400730Z",
     "start_time": "2020-06-25T19:11:13.061282Z"
    }
   },
   "outputs": [
    {
     "data": {
      "text/html": [
       "<div>\n",
       "<style scoped>\n",
       "    .dataframe tbody tr th:only-of-type {\n",
       "        vertical-align: middle;\n",
       "    }\n",
       "\n",
       "    .dataframe tbody tr th {\n",
       "        vertical-align: top;\n",
       "    }\n",
       "\n",
       "    .dataframe thead th {\n",
       "        text-align: right;\n",
       "    }\n",
       "</style>\n",
       "<table border=\"1\" class=\"dataframe\">\n",
       "  <thead>\n",
       "    <tr style=\"text-align: right;\">\n",
       "      <th></th>\n",
       "      <th>race</th>\n",
       "      <th>gender</th>\n",
       "      <th>age</th>\n",
       "      <th>weight</th>\n",
       "      <th>change</th>\n",
       "      <th>diabetesMed</th>\n",
       "      <th>readmitted</th>\n",
       "      <th>diag_1</th>\n",
       "      <th>diag_2</th>\n",
       "      <th>diag_3</th>\n",
       "    </tr>\n",
       "  </thead>\n",
       "  <tbody>\n",
       "    <tr>\n",
       "      <th>count</th>\n",
       "      <td>99493</td>\n",
       "      <td>101763</td>\n",
       "      <td>101766</td>\n",
       "      <td>3197</td>\n",
       "      <td>101766</td>\n",
       "      <td>101766</td>\n",
       "      <td>101766</td>\n",
       "      <td>101745</td>\n",
       "      <td>101408</td>\n",
       "      <td>100343</td>\n",
       "    </tr>\n",
       "    <tr>\n",
       "      <th>unique</th>\n",
       "      <td>5</td>\n",
       "      <td>2</td>\n",
       "      <td>10</td>\n",
       "      <td>9</td>\n",
       "      <td>2</td>\n",
       "      <td>2</td>\n",
       "      <td>3</td>\n",
       "      <td>716</td>\n",
       "      <td>748</td>\n",
       "      <td>789</td>\n",
       "    </tr>\n",
       "    <tr>\n",
       "      <th>top</th>\n",
       "      <td>Caucasian</td>\n",
       "      <td>Female</td>\n",
       "      <td>[70-80)</td>\n",
       "      <td>[75-100)</td>\n",
       "      <td>No</td>\n",
       "      <td>Yes</td>\n",
       "      <td>NO</td>\n",
       "      <td>428</td>\n",
       "      <td>276</td>\n",
       "      <td>250</td>\n",
       "    </tr>\n",
       "    <tr>\n",
       "      <th>freq</th>\n",
       "      <td>76099</td>\n",
       "      <td>54708</td>\n",
       "      <td>26068</td>\n",
       "      <td>1336</td>\n",
       "      <td>54755</td>\n",
       "      <td>78363</td>\n",
       "      <td>54864</td>\n",
       "      <td>6862</td>\n",
       "      <td>6752</td>\n",
       "      <td>11555</td>\n",
       "    </tr>\n",
       "  </tbody>\n",
       "</table>\n",
       "</div>"
      ],
      "text/plain": [
       "             race  gender      age    weight  change diabetesMed readmitted  \\\n",
       "count       99493  101763   101766      3197  101766      101766     101766   \n",
       "unique          5       2       10         9       2           2          3   \n",
       "top     Caucasian  Female  [70-80)  [75-100)      No         Yes         NO   \n",
       "freq        76099   54708    26068      1336   54755       78363      54864   \n",
       "\n",
       "        diag_1  diag_2  diag_3  \n",
       "count   101745  101408  100343  \n",
       "unique     716     748     789  \n",
       "top        428     276     250  \n",
       "freq      6862    6752   11555  "
      ]
     },
     "execution_count": 39,
     "metadata": {},
     "output_type": "execute_result"
    }
   ],
   "source": [
    "data[['race', \n",
    "      'gender', \n",
    "      'age', \n",
    "      'weight', \n",
    "      'change', \n",
    "      'diabetesMed', \n",
    "      'readmitted', \n",
    "      'diag_1', \n",
    "      'diag_2', \n",
    "      'diag_3']].describe(include='O')"
   ]
  },
  {
   "cell_type": "markdown",
   "metadata": {},
   "source": [
    "### Tratando valores nulos"
   ]
  },
  {
   "cell_type": "code",
   "execution_count": 40,
   "metadata": {
    "ExecuteTime": {
     "end_time": "2020-06-25T19:11:15.677389Z",
     "start_time": "2020-06-25T19:11:15.671884Z"
    }
   },
   "outputs": [],
   "source": [
    "import missingno as msno"
   ]
  },
  {
   "cell_type": "code",
   "execution_count": 41,
   "metadata": {
    "ExecuteTime": {
     "end_time": "2020-06-25T19:11:17.385869Z",
     "start_time": "2020-06-25T19:11:16.809156Z"
    },
    "scrolled": true
   },
   "outputs": [
    {
     "data": {
      "text/html": [
       "<div>\n",
       "<style scoped>\n",
       "    .dataframe tbody tr th:only-of-type {\n",
       "        vertical-align: middle;\n",
       "    }\n",
       "\n",
       "    .dataframe tbody tr th {\n",
       "        vertical-align: top;\n",
       "    }\n",
       "\n",
       "    .dataframe thead th {\n",
       "        text-align: right;\n",
       "    }\n",
       "</style>\n",
       "<table border=\"1\" class=\"dataframe\">\n",
       "  <thead>\n",
       "    <tr style=\"text-align: right;\">\n",
       "      <th></th>\n",
       "      <th>tipos</th>\n",
       "      <th>NA #</th>\n",
       "      <th>NA %</th>\n",
       "    </tr>\n",
       "    <tr>\n",
       "      <th>nomes</th>\n",
       "      <th></th>\n",
       "      <th></th>\n",
       "      <th></th>\n",
       "    </tr>\n",
       "  </thead>\n",
       "  <tbody>\n",
       "    <tr>\n",
       "      <th>race</th>\n",
       "      <td>object</td>\n",
       "      <td>2273</td>\n",
       "      <td>2.233555</td>\n",
       "    </tr>\n",
       "    <tr>\n",
       "      <th>gender</th>\n",
       "      <td>object</td>\n",
       "      <td>3</td>\n",
       "      <td>0.002948</td>\n",
       "    </tr>\n",
       "    <tr>\n",
       "      <th>weight</th>\n",
       "      <td>object</td>\n",
       "      <td>98569</td>\n",
       "      <td>96.858479</td>\n",
       "    </tr>\n",
       "    <tr>\n",
       "      <th>payer_code</th>\n",
       "      <td>object</td>\n",
       "      <td>40256</td>\n",
       "      <td>39.557416</td>\n",
       "    </tr>\n",
       "    <tr>\n",
       "      <th>medical_specialty</th>\n",
       "      <td>object</td>\n",
       "      <td>49949</td>\n",
       "      <td>49.082208</td>\n",
       "    </tr>\n",
       "    <tr>\n",
       "      <th>diag_1</th>\n",
       "      <td>object</td>\n",
       "      <td>21</td>\n",
       "      <td>0.020636</td>\n",
       "    </tr>\n",
       "    <tr>\n",
       "      <th>diag_2</th>\n",
       "      <td>object</td>\n",
       "      <td>358</td>\n",
       "      <td>0.351787</td>\n",
       "    </tr>\n",
       "    <tr>\n",
       "      <th>diag_3</th>\n",
       "      <td>object</td>\n",
       "      <td>1423</td>\n",
       "      <td>1.398306</td>\n",
       "    </tr>\n",
       "  </tbody>\n",
       "</table>\n",
       "</div>"
      ],
      "text/plain": [
       "                    tipos   NA #       NA %\n",
       "nomes                                      \n",
       "race               object   2273   2.233555\n",
       "gender             object      3   0.002948\n",
       "weight             object  98569  96.858479\n",
       "payer_code         object  40256  39.557416\n",
       "medical_specialty  object  49949  49.082208\n",
       "diag_1             object     21   0.020636\n",
       "diag_2             object    358   0.351787\n",
       "diag_3             object   1423   1.398306"
      ]
     },
     "execution_count": 41,
     "metadata": {},
     "output_type": "execute_result"
    }
   ],
   "source": [
    "data_missing = pd.DataFrame({'nomes': data.columns, \n",
    "                             'tipos': data.dtypes, \n",
    "                             'NA #': data.isna().sum(),\n",
    "                             'NA %': (data.isna().sum() / data.shape[0]) * 100\n",
    "                            })\n",
    "\n",
    "data_missing[data_missing['NA #'] > 0].set_index('nomes')"
   ]
  },
  {
   "cell_type": "code",
   "execution_count": 42,
   "metadata": {
    "ExecuteTime": {
     "end_time": "2020-06-25T19:11:24.448640Z",
     "start_time": "2020-06-25T19:11:18.589196Z"
    }
   },
   "outputs": [
    {
     "data": {
      "image/png": "[encoded data removed]",
      "text/plain": [
       "<Figure size 1080x720 with 3 Axes>"
      ]
     },
     "metadata": {
      "needs_background": "light"
     },
     "output_type": "display_data"
    }
   ],
   "source": [
    "msno.bar(data, figsize=[15, 10])\n",
    "plt.title('Visualizando os dados faltantes', y=1.15, size=16, loc='left')\n",
    "plt.show()"
   ]
  },
  {
   "cell_type": "markdown",
   "metadata": {},
   "source": [
    "#### Correlação de nulidade"
   ]
  },
  {
   "cell_type": "code",
   "execution_count": 43,
   "metadata": {
    "ExecuteTime": {
     "end_time": "2020-06-25T19:11:26.622828Z",
     "start_time": "2020-06-25T19:11:25.627904Z"
    }
   },
   "outputs": [
    {
     "data": {
      "image/png": "[encoded data removed]",
      "text/plain": [
       "<Figure size 1080x720 with 2 Axes>"
      ]
     },
     "metadata": {
      "needs_background": "light"
     },
     "output_type": "display_data"
    }
   ],
   "source": [
    "msno.heatmap(data, figsize=[15, 10], cmap='YlGnBu')\n",
    "plt.title('Correlação de nulidade', y=1.15, size=16, loc='left')\n",
    "plt.show()"
   ]
  },
  {
   "cell_type": "markdown",
   "metadata": {
    "ExecuteTime": {
     "end_time": "2020-05-31T15:53:33.159987Z",
     "start_time": "2020-05-31T15:53:33.156942Z"
    }
   },
   "source": [
    "#### Drop nas colunas com valores altos de nulos"
   ]
  },
  {
   "cell_type": "code",
   "execution_count": 44,
   "metadata": {
    "ExecuteTime": {
     "end_time": "2020-06-25T19:11:27.957361Z",
     "start_time": "2020-06-25T19:11:27.896222Z"
    }
   },
   "outputs": [],
   "source": [
    "data.drop(['weight', 'payer_code'], axis=1, inplace=True)"
   ]
  },
  {
   "cell_type": "markdown",
   "metadata": {},
   "source": [
    "#### Substituição pela moda nas demais colunas"
   ]
  },
  {
   "cell_type": "code",
   "execution_count": 45,
   "metadata": {
    "ExecuteTime": {
     "end_time": "2020-06-25T19:11:29.133288Z",
     "start_time": "2020-06-25T19:11:29.034690Z"
    }
   },
   "outputs": [],
   "source": [
    "cols= ['race', 'diag_1', 'diag_2', 'diag_3', 'gender']\n",
    "for c in cols:\n",
    "    data[c].fillna(data[c].mode()[0], inplace=True)"
   ]
  },
  {
   "cell_type": "code",
   "execution_count": 46,
   "metadata": {
    "ExecuteTime": {
     "end_time": "2020-06-25T19:11:30.578449Z",
     "start_time": "2020-06-25T19:11:30.565205Z"
    }
   },
   "outputs": [],
   "source": [
    "data['medical_specialty'].fillna('Missing', inplace=True)"
   ]
  },
  {
   "cell_type": "markdown",
   "metadata": {},
   "source": [
    "### Localizando outliers\n",
    "\n",
    "- LOF (k)~ 1: semelhante aos vizinhos.\n",
    "- LOF (k)< 1: inlier.\n",
    "- LOF (k)> 1: outlier."
   ]
  },
  {
   "cell_type": "code",
   "execution_count": 47,
   "metadata": {
    "ExecuteTime": {
     "end_time": "2020-06-25T19:12:11.947022Z",
     "start_time": "2020-06-25T19:11:31.868597Z"
    }
   },
   "outputs": [
    {
     "name": "stdout",
     "output_type": "stream",
     "text": [
      "Total de outliers identificados: 0\n"
     ]
    }
   ],
   "source": [
    "from sklearn.neighbors import LocalOutlierFactor\n",
    "\n",
    "clf_outliers= LocalOutlierFactor(n_neighbors=3)\n",
    "data['is_outlier']= clf_outliers.fit_predict(data[[c for c in data.columns if data[c].dtypes != 'O']])\n",
    "\n",
    "count= data.query('is_outlier>1').count()\n",
    "print(f'Total de outliers identificados: {sum(count)}')"
   ]
  },
  {
   "cell_type": "markdown",
   "metadata": {},
   "source": [
    "### Pré-processamento dos dados"
   ]
  },
  {
   "cell_type": "code",
   "execution_count": 48,
   "metadata": {
    "ExecuteTime": {
     "end_time": "2020-06-25T19:12:13.498208Z",
     "start_time": "2020-06-25T19:12:13.156357Z"
    }
   },
   "outputs": [],
   "source": [
    "data.dropna(inplace=True)"
   ]
  },
  {
   "cell_type": "markdown",
   "metadata": {},
   "source": [
    "#### Mapeamento das colunas"
   ]
  },
  {
   "cell_type": "code",
   "execution_count": 49,
   "metadata": {
    "ExecuteTime": {
     "end_time": "2020-06-25T19:12:14.768425Z",
     "start_time": "2020-06-25T19:12:14.686949Z"
    }
   },
   "outputs": [],
   "source": [
    "data['gender'] = data['gender'].map({'Female': 0, 'Male': 1}).astype(int)\n",
    "\n",
    "data['race'] = data['race'].map({'Caucasian': 0, \n",
    "                                 'AfricanAmerican': 1, \n",
    "                                 'Hispanic': 2, \n",
    "                                 'Other': 3, \n",
    "                                 'Asian': 4}).astype(int)"
   ]
  },
  {
   "cell_type": "code",
   "execution_count": 50,
   "metadata": {
    "ExecuteTime": {
     "end_time": "2020-06-25T19:12:16.014736Z",
     "start_time": "2020-06-25T19:12:15.939990Z"
    }
   },
   "outputs": [],
   "source": [
    "data['change'] = data['change'].map({'No': 0, 'Ch': 1}).astype(int)\n",
    "data['diabetesMed'] = data['diabetesMed'].map({'No': 0, 'Yes': 1}).astype(int)"
   ]
  },
  {
   "cell_type": "code",
   "execution_count": 51,
   "metadata": {
    "ExecuteTime": {
     "end_time": "2020-06-25T19:12:16.674006Z",
     "start_time": "2020-06-25T19:12:16.017450Z"
    }
   },
   "outputs": [],
   "source": [
    "cols = [\n",
    "        'metformin', \n",
    "        'repaglinide', \n",
    "        'nateglinide', \n",
    "        'chlorpropamide', \n",
    "        'glimepiride', \n",
    "        'acetohexamide', \n",
    "        'glipizide', \n",
    "        'glyburide', \n",
    "        'tolbutamide', \n",
    "        'pioglitazone', \n",
    "        'rosiglitazone', \n",
    "        'acarbose', \n",
    "        'miglitol', \n",
    "        'troglitazone', \n",
    "        'tolazamide', \n",
    "        'insulin',\n",
    "        'glyburide-metformin', \n",
    "        'glipizide-metformin', \n",
    "        'metformin-rosiglitazone', \n",
    "        'metformin-pioglitazone'\n",
    "]\n",
    "\n",
    "for c in cols:\n",
    "    data[c] = data[c].map({'No': 0, 'Steady': 1, 'Up': 2, 'Down': 3}).astype(int)"
   ]
  },
  {
   "cell_type": "code",
   "execution_count": 52,
   "metadata": {
    "ExecuteTime": {
     "end_time": "2020-06-25T19:12:16.721022Z",
     "start_time": "2020-06-25T19:12:16.676346Z"
    }
   },
   "outputs": [],
   "source": [
    "data['A1Cresult'] = data['A1Cresult'].map({'None': 0, '>8': 1, 'Norm': 2, '>7': 3}).astype(int)\n",
    "data['max_glu_serum'] = data['max_glu_serum'].map({'None': 0, 'Norm': 1, '>200': 2, '>300': 3}).astype(int)"
   ]
  },
  {
   "cell_type": "markdown",
   "metadata": {},
   "source": [
    "#### Removendo medicamentos que não foram receitados para nenhum paciente, uma vez que não fornecem informações significativas."
   ]
  },
  {
   "cell_type": "code",
   "execution_count": 53,
   "metadata": {
    "ExecuteTime": {
     "end_time": "2020-06-25T19:12:18.896903Z",
     "start_time": "2020-06-25T19:12:18.859586Z"
    }
   },
   "outputs": [],
   "source": [
    "data.drop(['examide', 'citoglipton', 'glimepiride-pioglitazone'], axis=1, inplace=True)"
   ]
  },
  {
   "cell_type": "markdown",
   "metadata": {},
   "source": [
    "### Remoção de registros do mesmo paciente"
   ]
  },
  {
   "cell_type": "code",
   "execution_count": 54,
   "metadata": {
    "ExecuteTime": {
     "end_time": "2020-06-25T19:12:21.245586Z",
     "start_time": "2020-06-25T19:12:21.236344Z"
    }
   },
   "outputs": [
    {
     "name": "stdout",
     "output_type": "stream",
     "text": [
      "Total de registros do mesmo paciente: 30248\n"
     ]
    }
   ],
   "source": [
    "duplicated = data['patient_nbr'].duplicated().sum()\n",
    "print(f'Total de registros do mesmo paciente: {duplicated}')"
   ]
  },
  {
   "cell_type": "code",
   "execution_count": 55,
   "metadata": {
    "ExecuteTime": {
     "end_time": "2020-06-25T19:12:22.340553Z",
     "start_time": "2020-06-25T19:12:22.312930Z"
    }
   },
   "outputs": [
    {
     "name": "stdout",
     "output_type": "stream",
     "text": [
      "Linhas: 71518 | Colunas: 46\n"
     ]
    }
   ],
   "source": [
    "data.drop_duplicates(subset='patient_nbr', keep='first', inplace=True)\n",
    "print(f'Linhas: {data.shape[0]} | Colunas: {data.shape[1]}')"
   ]
  },
  {
   "cell_type": "markdown",
   "metadata": {},
   "source": [
    "### Remoção dos pacientes que faleceram ou que estão em cuidados paliativos"
   ]
  },
  {
   "cell_type": "code",
   "execution_count": 56,
   "metadata": {
    "ExecuteTime": {
     "end_time": "2020-06-25T19:12:23.445869Z",
     "start_time": "2020-06-25T19:12:23.426590Z"
    }
   },
   "outputs": [
    {
     "name": "stdout",
     "output_type": "stream",
     "text": [
      "Linhas: 69973 | Colunas: 46\n"
     ]
    }
   ],
   "source": [
    "data=data[~data['discharge_disposition_id'].isin([11, 13, 14, 19, 20])]\n",
    "print(f'Linhas: {data.shape[0]} | Colunas: {data.shape[1]}')"
   ]
  },
  {
   "cell_type": "markdown",
   "metadata": {},
   "source": [
    "### Remoção dos Ids do conjunto de dados"
   ]
  },
  {
   "cell_type": "code",
   "execution_count": 57,
   "metadata": {
    "ExecuteTime": {
     "end_time": "2020-06-25T19:12:24.602657Z",
     "start_time": "2020-06-25T19:12:24.526550Z"
    }
   },
   "outputs": [],
   "source": [
    "data.drop(['encounter_id', \n",
    "           'patient_nbr', \n",
    "           'admission_type_id', \n",
    "           'discharge_disposition_id', \n",
    "           'admission_source_id',\n",
    "           'is_outlier'], inplace=True, axis=1)"
   ]
  },
  {
   "cell_type": "code",
   "execution_count": 58,
   "metadata": {
    "ExecuteTime": {
     "end_time": "2020-06-25T19:12:25.634583Z",
     "start_time": "2020-06-25T19:12:25.630643Z"
    }
   },
   "outputs": [],
   "source": [
    "data.reset_index(drop=True, inplace=True)"
   ]
  },
  {
   "cell_type": "markdown",
   "metadata": {},
   "source": [
    "### Engenharia de recursos"
   ]
  },
  {
   "cell_type": "markdown",
   "metadata": {
    "ExecuteTime": {
     "end_time": "2020-06-08T23:26:26.424016Z",
     "start_time": "2020-06-08T23:26:26.330904Z"
    }
   },
   "source": [
    "#### Quantidade de utilização do serviços hospitalares"
   ]
  },
  {
   "cell_type": "code",
   "execution_count": 59,
   "metadata": {
    "ExecuteTime": {
     "end_time": "2020-06-25T19:12:26.679773Z",
     "start_time": "2020-06-25T19:12:26.672674Z"
    }
   },
   "outputs": [],
   "source": [
    "data['use_hospital_services'] = data['number_outpatient'] + data['number_emergency'] + data['number_inpatient']"
   ]
  },
  {
   "cell_type": "markdown",
   "metadata": {},
   "source": [
    "#### Número de alterações do medicamento"
   ]
  },
  {
   "cell_type": "code",
   "execution_count": 60,
   "metadata": {
    "ExecuteTime": {
     "end_time": "2020-06-25T19:12:28.437962Z",
     "start_time": "2020-06-25T19:12:27.732935Z"
    }
   },
   "outputs": [],
   "source": [
    "cols = [\n",
    "        'metformin', \n",
    "        'repaglinide', \n",
    "        'nateglinide', \n",
    "        'chlorpropamide', \n",
    "        'glimepiride', \n",
    "        'acetohexamide', \n",
    "        'glipizide', \n",
    "        'glyburide', \n",
    "        'tolbutamide', \n",
    "        'pioglitazone', \n",
    "        'rosiglitazone', \n",
    "        'acarbose', \n",
    "        'miglitol', \n",
    "        'troglitazone', \n",
    "        'tolazamide', \n",
    "        'insulin',\n",
    "        'glyburide-metformin', \n",
    "        'glipizide-metformin', \n",
    "        'metformin-rosiglitazone', \n",
    "        'metformin-pioglitazone'\n",
    "]\n",
    "\n",
    "for c in cols:\n",
    "    name_cols = str(c)+'_is_change'\n",
    "    data[name_cols] = data[c].apply(lambda x : 0 if(x==0 or x==1) else 1)"
   ]
  },
  {
   "cell_type": "code",
   "execution_count": 61,
   "metadata": {
    "ExecuteTime": {
     "end_time": "2020-06-25T19:12:29.541954Z",
     "start_time": "2020-06-25T19:12:29.498304Z"
    }
   },
   "outputs": [],
   "source": [
    "data['total_changes'] = 0\n",
    "\n",
    "for c in cols:\n",
    "    name_cols = str(c)+'_is_change'\n",
    "    data['total_changes'] = data['total_changes'] + data[name_cols]\n",
    "    del data[name_cols]"
   ]
  },
  {
   "cell_type": "markdown",
   "metadata": {},
   "source": [
    "#### Covertendo a idade para um ponto médio da categoria de idades usando mediana"
   ]
  },
  {
   "cell_type": "code",
   "execution_count": 62,
   "metadata": {
    "ExecuteTime": {
     "end_time": "2020-06-25T19:12:30.614991Z",
     "start_time": "2020-06-25T19:12:30.593322Z"
    }
   },
   "outputs": [],
   "source": [
    "age = {\n",
    "    '[0-10)':  int(np.median(np.arange(0, 11, 1))),\n",
    "    '[10-20)': int(np.median(np.arange(10, 21, 1))), \n",
    "    '[20-30)': int(np.median(np.arange(20, 31, 1))),\n",
    "    '[30-40)': int(np.median(np.arange(30, 41, 1))),\n",
    "    '[40-50)': int(np.median(np.arange(40, 51, 1))),\n",
    "    '[50-60)': int(np.median(np.arange(50, 61, 1))),\n",
    "    '[60-70)': int(np.median(np.arange(60, 71, 1))),\n",
    "    '[70-80)': int(np.median(np.arange(70, 81, 1))),\n",
    "    '[80-90)': int(np.median(np.arange(80, 91, 1))),\n",
    "    '[90-100)':int(np.median(np.arange(90, 101, 1)))\n",
    "}\n",
    "\n",
    "data['median_ages'] = data['age'].map(age)"
   ]
  },
  {
   "cell_type": "markdown",
   "metadata": {},
   "source": [
    "#### Categorização dos diagnósticos\n",
    "\n",
    "- **`Fonte:`** Artigo: Impact of HbA1c Measurement on Hospital Readmission Rates: Analysis of 70,000 Clinical Database Patient Records\n",
    "\n",
    "#### 1: Circulatory | 2: Respiratory | 3: Digestive | 4: Diabetes | 5: Injury | 6: Musculoskeletal | 7: Genitourinary | 8: Neoplasms | 9: Other"
   ]
  },
  {
   "cell_type": "code",
   "execution_count": 63,
   "metadata": {
    "ExecuteTime": {
     "end_time": "2020-06-25T19:12:31.682843Z",
     "start_time": "2020-06-25T19:12:31.674022Z"
    }
   },
   "outputs": [],
   "source": [
    "data['categories_diag_1'] = data['diag_1']\n",
    "data['categories_diag_2'] = data['diag_2']\n",
    "data['categories_diag_3'] = data['diag_3']"
   ]
  },
  {
   "cell_type": "code",
   "execution_count": 64,
   "metadata": {
    "ExecuteTime": {
     "end_time": "2020-06-25T19:12:33.168565Z",
     "start_time": "2020-06-25T19:12:32.860387Z"
    }
   },
   "outputs": [],
   "source": [
    "data.loc[data['diag_1'].str.contains('V'), ['categories_diag_1']] = 0\n",
    "data.loc[data['diag_2'].str.contains('V'), ['categories_diag_2']] = 0\n",
    "data.loc[data['diag_3'].str.contains('V'), ['categories_diag_3']] = 0\n",
    "\n",
    "data.loc[data['diag_1'].str.contains('E'), ['categories_diag_1']] = -1\n",
    "data.loc[data['diag_2'].str.contains('E'), ['categories_diag_2']] = -1\n",
    "data.loc[data['diag_3'].str.contains('E'), ['categories_diag_3']] = -1"
   ]
  },
  {
   "cell_type": "code",
   "execution_count": 65,
   "metadata": {
    "ExecuteTime": {
     "end_time": "2020-06-25T19:12:34.355087Z",
     "start_time": "2020-06-25T19:12:34.304985Z"
    }
   },
   "outputs": [],
   "source": [
    "data['categories_diag_1'] = data['categories_diag_1'].astype(float)\n",
    "data['categories_diag_2'] = data['categories_diag_2'].astype(float)\n",
    "data['categories_diag_3'] = data['categories_diag_3'].astype(float)"
   ]
  },
  {
   "cell_type": "code",
   "execution_count": null,
   "metadata": {
    "ExecuteTime": {
     "end_time": "2020-06-25T13:09:45.406075Z",
     "start_time": "2020-06-25T12:14:34.338624Z"
    }
   },
   "outputs": [],
   "source": [
    "convertDiagnosis(data, 'categories_diag_1')\n",
    "data['categories_diag_1'] = data['categories_diag_1'].astype(int)"
   ]
  },
  {
   "cell_type": "code",
   "execution_count": null,
   "metadata": {
    "ExecuteTime": {
     "end_time": "2020-06-25T14:16:36.513270Z",
     "start_time": "2020-06-25T13:09:45.407978Z"
    }
   },
   "outputs": [],
   "source": [
    "convertDiagnosis(data, 'categories_diag_2')\n",
    "data['categories_diag_2'] = data['categories_diag_2'].astype(int)"
   ]
  },
  {
   "cell_type": "code",
   "execution_count": null,
   "metadata": {
    "ExecuteTime": {
     "end_time": "2020-06-25T15:25:37.293827Z",
     "start_time": "2020-06-25T14:16:36.546576Z"
    }
   },
   "outputs": [],
   "source": [
    "convertDiagnosis(data, 'categories_diag_3')\n",
    "data['categories_diag_3'] = data['categories_diag_3'].astype(int)"
   ]
  },
  {
   "cell_type": "markdown",
   "metadata": {},
   "source": [
    "### Salvando o conjunto de dados pré-processado"
   ]
  },
  {
   "cell_type": "code",
   "execution_count": null,
   "metadata": {
    "ExecuteTime": {
     "end_time": "2020-06-25T16:52:38.931381Z",
     "start_time": "2020-06-25T16:52:36.807218Z"
    }
   },
   "outputs": [],
   "source": [
    "data.to_csv('data_cleaned.csv', index=False)"
   ]
  },
  {
   "cell_type": "markdown",
   "metadata": {},
   "source": [
    "### Antes"
   ]
  },
  {
   "cell_type": "code",
   "execution_count": null,
   "metadata": {
    "ExecuteTime": {
     "end_time": "2020-06-25T15:25:37.326384Z",
     "start_time": "2020-06-25T15:25:37.297325Z"
    }
   },
   "outputs": [],
   "source": [
    "print(f'Linhas: {data_orig.shape[0]} | Colunas: {data_orig.shape[1]}\\n')\n",
    "data_orig.head(5).T"
   ]
  },
  {
   "cell_type": "markdown",
   "metadata": {},
   "source": [
    "### Depois"
   ]
  },
  {
   "cell_type": "code",
   "execution_count": null,
   "metadata": {
    "ExecuteTime": {
     "end_time": "2020-06-25T15:25:37.575103Z",
     "start_time": "2020-06-25T15:25:37.329098Z"
    }
   },
   "outputs": [],
   "source": [
    "print(f'Linhas: {data.shape[0]} | Colunas: {data.shape[1]}\\n')\n",
    "data.head(5).T"
   ]
  },
  {
   "cell_type": "markdown",
   "metadata": {},
   "source": [
    "### 4) **(30%)** Análise\n",
    "\n",
    "Com seu dado pronto, é hora de fazer a parte mais legal: investigar e responder nossas hipoteses. Elas se confirmam? Em quais cenários? Existe alguma forma de perceber isso no mundo real? Dica: Abuse das técnicas de visualização.\n",
    "\n",
    "Ex: Ainda no contexto dos exemplos do item 2. Ao investigar a hipótese relacionada ao padrão de compra, percebi que em todos os meses existia uma diferença entre dia util e final de semana. Porém notei que Fevereiro possui um comportamento diferente, o que poderia explicar? Talvez o carnaval e seus feriados.\n",
    "\n",
    "Ex2: Talvez eu descubra que alguns finais de semana possuam um comportamento diferente dos dias de semana e outros não. Por que não são todos? Nessa investigação você pode acabar descobrindo que os finais de semana que são diferentes, coincidem no fato de serem os primeiros dias utéis, o que pode remeter ao fato de boa parte das empresas realizarem pagamentos nessa parte do mês."
   ]
  },
  {
   "cell_type": "markdown",
   "metadata": {},
   "source": [
    "### Análise univariada: Readmitted"
   ]
  },
  {
   "cell_type": "code",
   "execution_count": 3,
   "metadata": {
    "ExecuteTime": {
     "end_time": "2020-06-25T19:03:32.313385Z",
     "start_time": "2020-06-25T19:03:31.905367Z"
    }
   },
   "outputs": [],
   "source": [
    "data_cleaned = pd.read_csv('data_cleaned.csv')"
   ]
  },
  {
   "cell_type": "markdown",
   "metadata": {},
   "source": [
    "#### Distribuição de pacientes readmitidos ou não"
   ]
  },
  {
   "cell_type": "code",
   "execution_count": 19,
   "metadata": {
    "ExecuteTime": {
     "end_time": "2020-06-25T19:06:05.154590Z",
     "start_time": "2020-06-25T19:06:04.897082Z"
    }
   },
   "outputs": [
    {
     "data": {
      "image/png": "[encoded data removed]",
      "text/plain": [
       "<Figure size 504x288 with 1 Axes>"
      ]
     },
     "metadata": {
      "needs_background": "light"
     },
     "output_type": "display_data"
    }
   ],
   "source": [
    "plt.rcParams['figure.figsize'] = [7, 4]\n",
    "\n",
    "sns.countplot(data_cleaned['readmitted'], palette=[\"#4682B4\", \"#C0C0C0\", \"#C0C0C0\"])\n",
    "\n",
    "plt.title('Distribuição de pacientes readmitidos', y=1.02, size=14, loc='left', fontweight='bold')\n",
    "plt.ylim(0, 45000)\n",
    "plt.ylabel('Nº de pacientes', horizontalalignment='left', y=0.65)\n",
    "plt.xlabel('Readmissão', horizontalalignment='right', x=0.12)\n",
    "plt.show()"
   ]
  },
  {
   "cell_type": "markdown",
   "metadata": {},
   "source": [
    "Percebe-se um desequilíbrio entre as classes, uma vez que o número de pacientes **não readmitidos** é maior (~60%)."
   ]
  },
  {
   "cell_type": "markdown",
   "metadata": {},
   "source": [
    "#### Tempo no hospital vs. readmissão"
   ]
  },
  {
   "cell_type": "code",
   "execution_count": 31,
   "metadata": {
    "ExecuteTime": {
     "end_time": "2020-06-25T19:08:14.688033Z",
     "start_time": "2020-06-25T19:08:14.258500Z"
    }
   },
   "outputs": [
    {
     "data": {
      "image/png": "[encoded data removed]",
      "text/plain": [
       "<Figure size 936x504 with 1 Axes>"
      ]
     },
     "metadata": {
      "needs_background": "light"
     },
     "output_type": "display_data"
    }
   ],
   "source": [
    "plt.rcParams['figure.figsize'] = [13, 7]\n",
    "\n",
    "ax=sns.kdeplot(data_cleaned.loc[(data_cleaned['readmitted'] == 'NO'),'time_in_hospital'], \n",
    "               color='#191970', \n",
    "               shade=True, \n",
    "               label='Not Readmitted')\n",
    "\n",
    "ax=sns.kdeplot(data_cleaned.loc[(data_cleaned['readmitted'] != 'NO'),'time_in_hospital'], \n",
    "               color='#B22222', \n",
    "               shade=True, \n",
    "               label='Readmitted')\n",
    "\n",
    "plt.ylabel('Frequência relativa', horizontalalignment='left', y=0.72)\n",
    "plt.xlabel('Tempo no hospital', horizontalalignment='right', x=0.18)\n",
    "plt.title('Tempo no hospital vs. readmissão', y=1.02, size=14, loc='left', fontweight='bold')\n",
    "plt.show()"
   ]
  },
  {
   "cell_type": "markdown",
   "metadata": {},
   "source": [
    "A medida que o tempo no hospital aumenta, a distribuição de admitidos e não admitidos se torna mais próxima."
   ]
  },
  {
   "cell_type": "markdown",
   "metadata": {},
   "source": [
    "### 5) Modelagem 30%\n",
    "\n",
    "Agora você terá mais uma oportunidade de mostrar o que você aprendeu durante o módulo 2 quanto a modelagem de dados e criação de modelos. Utilizando os dados preparados na seção 1 e após a análise feita na seção 2 você deverá:\n",
    "1. **Defina um problema de regressão ou classificação que envolva uma variável dos seus dados.**"
   ]
  },
  {
   "cell_type": "markdown",
   "metadata": {},
   "source": [
    "***---> Comente brevemente sua decisão aqui.***"
   ]
  },
  {
   "cell_type": "markdown",
   "metadata": {},
   "source": [
    "#### Amostragem extratificada para nivelar as classes"
   ]
  },
  {
   "cell_type": "code",
   "execution_count": null,
   "metadata": {
    "ExecuteTime": {
     "end_time": "2020-06-25T17:00:52.025724Z",
     "start_time": "2020-06-25T17:00:51.997214Z"
    }
   },
   "outputs": [],
   "source": [
    "data_cleaned['readmitted'].value_counts()"
   ]
  },
  {
   "cell_type": "code",
   "execution_count": null,
   "metadata": {
    "ExecuteTime": {
     "end_time": "2020-06-25T17:01:06.423544Z",
     "start_time": "2020-06-25T17:01:06.184843Z"
    }
   },
   "outputs": [],
   "source": [
    "sample = data_cleaned.groupby(['readmitted']).apply(lambda x : x.sample(n=6277, replace=False))\n",
    "sample['readmitted'].value_counts()"
   ]
  },
  {
   "cell_type": "markdown",
   "metadata": {},
   "source": [
    "2. **Realize ao menos 2 técnicas de processamento e seleção de features.**\n",
    "    * Isto inclui, normalização, PCA, e técnicas de seleção de features como information gain. Seja criativo pois está parte é crucial para seu modelo. Você pode escolhar manualmente as features desde que seja justificada na seção 2 (parte de Análise).\n"
   ]
  },
  {
   "cell_type": "code",
   "execution_count": null,
   "metadata": {},
   "outputs": [],
   "source": []
  },
  {
   "cell_type": "markdown",
   "metadata": {},
   "source": [
    "3. **Defina uma métrica para avaliar o seu modelo.**\n",
    "    * Por exemplo, você pode utilizar MAE (Mean Absolute Error) para um problema de regressão. Ou, F1-Score para um problema de classificação. Há varias métricas, então escolha sabiamente.\n"
   ]
  },
  {
   "cell_type": "markdown",
   "metadata": {},
   "source": [
    "***---> Comente brevemente sua decisão aqui.***"
   ]
  },
  {
   "cell_type": "markdown",
   "metadata": {},
   "source": [
    "4. **Divida seus dados em 2 conjuntos. Um de treino e outro conjunto de teste.**\n",
    "    * Treine e otimize seu modelo no conjunto de treino e apenas use o conjunto de teste para apresentar os resultados finais.\n"
   ]
  },
  {
   "cell_type": "code",
   "execution_count": null,
   "metadata": {},
   "outputs": [],
   "source": []
  },
  {
   "cell_type": "markdown",
   "metadata": {},
   "source": [
    "5. **Treine um ou mais modelos de ML para o seu problema.**\n",
    "    * Escolha 1 ou mais tipos de classificadores ou regressores dependendo do seu problema.\n",
    "    * Por exemplo, TreeClassifier para um problema de classificação. \n",
    "    * Use cross-validation e outras técnicas como GridSearch e ou RandomizedSearch para encontrar os melhores parametros para o seu modelo.\n"
   ]
  },
  {
   "cell_type": "code",
   "execution_count": null,
   "metadata": {},
   "outputs": [],
   "source": []
  },
  {
   "cell_type": "markdown",
   "metadata": {},
   "source": [
    "6. **Apresente (com visualizações) os resultados do seu modelo mostrando que ele é melhor do que um baseline não aleatório.**\n",
    "    * Para o baseline, você pode escolher um modelo bem trivial mas não aleatório. Por exemplo, para um problema de classificação um baseline pode ser a classe mais presente caso o conjunto de dados seja desbalanceado.  Um modelo mais simples também pode ser utilizado como baseline, por exemplo, você escolheu um Random Forest Classifier, e comparou os resultados um Logistic Regression. Você pode até mesmo escolher um modelo de AutoML(como TPOT) como Baseline."
   ]
  },
  {
   "cell_type": "code",
   "execution_count": null,
   "metadata": {},
   "outputs": [],
   "source": []
  },
  {
   "cell_type": "markdown",
   "metadata": {},
   "source": [
    "### 6) Conclusões **10%**"
   ]
  },
  {
   "cell_type": "markdown",
   "metadata": {},
   "source": [
    "*Partindo das suas hipoteses e investigações, o que você consegue concluir? Suas hipoteses se concretizaram?*"
   ]
  }
 ],
 "metadata": {
  "file_extension": ".py",
  "hide_input": false,
  "kernelspec": {
   "display_name": "Python 3",
   "language": "python",
   "name": "python3"
  },
  "language_info": {
   "codemirror_mode": {
    "name": "ipython",
    "version": 3
   },
   "file_extension": ".py",
   "mimetype": "text/x-python",
   "name": "python",
   "nbconvert_exporter": "python",
   "pygments_lexer": "ipython3",
   "version": "3.7.5"
  },
  "mimetype": "text/x-python",
  "name": "python",
  "npconvert_exporter": "python",
  "pygments_lexer": "ipython3",
  "toc": {
   "base_numbering": 1,
   "nav_menu": {},
   "number_sections": false,
   "sideBar": false,
   "skip_h1_title": false,
   "title_cell": "Table of Contents",
   "title_sidebar": "Contents",
   "toc_cell": false,
   "toc_position": {},
   "toc_section_display": false,
   "toc_window_display": false
  },
  "varInspector": {
   "cols": {
    "lenName": 16,
    "lenType": 16,
    "lenVar": 40
   },
   "kernels_config": {
    "python": {
     "delete_cmd_postfix": "",
     "delete_cmd_prefix": "del ",
     "library": "var_list.py",
     "varRefreshCmd": "print(var_dic_list())"
    },
    "r": {
     "delete_cmd_postfix": ") ",
     "delete_cmd_prefix": "rm(",
     "library": "var_list.r",
     "varRefreshCmd": "cat(var_dic_list()) "
    }
   },
   "types_to_exclude": [
    "module",
    "function",
    "builtin_function_or_method",
    "instance",
    "_Feature"
   ],
   "window_display": false
  },
  "version": 3
 },
 "nbformat": 4,
 "nbformat_minor": 2
}
